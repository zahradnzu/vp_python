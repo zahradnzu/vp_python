{
 "cells": [
  {
   "cell_type": "markdown",
   "metadata": {},
   "source": [
    "#### logicke a komparativni operatory\n",
    "- mezi logicke logicke operatory patri **and**, **or** a **not**\n",
    "- pomoci techto operatoru muzeme rozsirit podminky - viz. priklady s Hb\n",
    "- **and** & vrati *True* jen v pripade, pokud oba/vsechny vyrazy, mezi kterymi je vlozen jsou *True*\n",
    "- **or** | vrati *True*, pokud alespon jeden z vyrazu je *True*\n",
    "- **not** ~ vrati *False*, pokud je vysledek True (podminka \"je splnena\", pokud je vyraz *False*)\n",
    "- ***komparativni operatory*** jsou v podstate znamenka k porovnani hodnot. specialni pozornost si zaslouzi DVOJITE == pro porovnani rovnosti, != pro \"nerovna se\", >= a <= (vetsi nebo rovno a mensi nebo rovno)\n"
   ]
  },
  {
   "cell_type": "code",
   "execution_count": 3,
   "metadata": {},
   "outputs": [
    {
     "name": "stdout",
     "output_type": "stream",
     "text": [
      "Je vetsi nez 5\n"
     ]
    }
   ],
   "source": [
    "# input\n",
    "Hb = float(input(\"Hodnota Hb v g/l? \"))\n",
    "sex = input(\"Jaké je pohlaví pacienta? M/F \").lower().strip()\n",
    "\n",
    "# \"rozhodovaci strom\" - pro lepsi prehlednost (a nekdy i pro spravnou konstrukci slozitejsi podminky)\n",
    "# lze vyuzit zavorky () jako v matematice. operatory lze takze nekdy nahradit znaky &, | nebo ~\n",
    "if (Hb < 120 and sex == \"f\") | (Hb < 135 and sex == \"m\"):\n",
    "    print(\"anémie:(\")\n",
    "elif Hb > 160 and sex == \"f\" or Hb > 175 and sex == \"m\":\n",
    "    print(\"to je zas moc:/\")\n",
    "else:\n",
    "    print(\"v normě:)\")\n",
    "\n",
    "# output pro input 130, \"M\""
   ]
  },
  {
   "cell_type": "code",
   "execution_count": 7,
   "metadata": {},
   "outputs": [
    {
     "name": "stdout",
     "output_type": "stream",
     "text": [
      "je mensi nez 10\n"
     ]
    }
   ],
   "source": [
    "# krkolomny priklad s not, realne bychom podminku formulovali jako if x < 10:\n",
    "x = 7\n",
    "if not x > 10:\n",
    "    print(\"je mensi nez 10\")"
   ]
  },
  {
   "cell_type": "markdown",
   "metadata": {},
   "source": [
    "## cykly\n",
    "- cykly vyuzivame, pokud chceme nejakou operaci udelat n-krat, \"do nekonecna\" dokud se nesplni nejaka podminka (typicky while) nebo chceme *iterovat* pres nejakou promennou - list, dictionary, dataframe, string,..\n",
    " \n",
    "#### while loop\n",
    "- while loop (cyklus) pri praci s daty vyuzivame podstatne mene, nez for loop. typicky"
   ]
  },
  {
   "cell_type": "code",
   "execution_count": null,
   "metadata": {},
   "outputs": [],
   "source": [
    "pocet_mnouknuti = int(input(\"pocet mnau? \"))\n",
    "\n",
    "pocitadlo = 0\n",
    "\n",
    "while pocitadlo < pocet_mnouknuti:\n",
    "    print(f\"mňau číslo {pocitadlo + 1}\")\n",
    "    pocitadlo = pocitadlo + 1\n"
   ]
  },
  {
   "cell_type": "code",
   "execution_count": null,
   "metadata": {},
   "outputs": [],
   "source": [
    "seznam_leku = [\"Eliquis\", \"Ritalin\", \"Kanavit\", \"Rosucard\", \"Stoptussin\"]\n",
    "\n",
    "r_list = []\n",
    "not_r_list = []\n",
    "\n",
    "for lek in seznam_leku:\n",
    "    if lek.startswith(\"R\"):\n",
    "        print(f\"{lek} zacina na R :)\")\n",
    "        r_list.append(lek)\n",
    "    else:\n",
    "        print(f\"{lek} nezacina na R :/\")\n",
    "        not_r_list.append(lek)\n",
    "\n",
    "print(f\"\\nPocet co zacina na R: {len(r_list)}, seznam: {r_list}\\npocet co nezacina na R: {len(not_r_list)}, {not_r_list}\\n\")"
   ]
  }
 ],
 "metadata": {
  "kernelspec": {
   "display_name": "Python 3",
   "language": "python",
   "name": "python3"
  },
  "language_info": {
   "codemirror_mode": {
    "name": "ipython",
    "version": 3
   },
   "file_extension": ".py",
   "mimetype": "text/x-python",
   "name": "python",
   "nbconvert_exporter": "python",
   "pygments_lexer": "ipython3",
   "version": "3.10.12"
  }
 },
 "nbformat": 4,
 "nbformat_minor": 2
}
