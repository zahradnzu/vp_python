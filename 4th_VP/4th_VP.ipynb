{
 "cells": [
  {
   "cell_type": "markdown",
   "metadata": {},
   "source": [
    "#### logicke a komparativni operatory\n",
    "- mezi logicke logicke operatory patri **and**, **or** a **not**\n",
    "- pomoci techto operatoru muzeme rozsirit podminky - viz. priklady s Hb\n",
    "- **and** & vrati *True* jen v pripade, pokud oba/vsechny vyrazy, mezi kterymi je vlozen jsou *True*\n",
    "- **or** | vrati *True*, pokud alespon jeden z vyrazu je *True*\n",
    "- **not** ~ vrati *False*, pokud je vysledek True (podminka \"je splnena\", pokud je vyraz *False*)\n",
    "- ***komparativni operatory*** jsou v podstate znamenka k porovnani hodnot. specialni pozornost si zaslouzi DVOJITE == pro porovnani rovnosti, != pro \"nerovna se\", >= a <= (vetsi nebo rovno a mensi nebo rovno)\n"
   ]
  },
  {
   "cell_type": "code",
   "execution_count": 3,
   "metadata": {},
   "outputs": [
    {
     "name": "stdout",
     "output_type": "stream",
     "text": [
      "Je vetsi nez 5\n"
     ]
    }
   ],
   "source": [
    "# input\n",
    "Hb = float(input(\"Hodnota Hb v g/l? \"))\n",
    "sex = input(\"Jaké je pohlaví pacienta? M/F \").lower().strip()\n",
    "\n",
    "# \"rozhodovaci strom\" - pro lepsi prehlednost (a nekdy i pro spravnou konstrukci slozitejsi podminky)\n",
    "# lze vyuzit zavorky () jako v matematice. operatory lze takze nekdy nahradit znaky &, | nebo ~\n",
    "if (Hb < 120 and sex == \"f\") | (Hb < 135 and sex == \"m\"):\n",
    "    print(\"anémie:(\")\n",
    "elif Hb > 160 and sex == \"f\" or Hb > 175 and sex == \"m\":\n",
    "    print(\"to je zas moc:/\")\n",
    "else:\n",
    "    print(\"v normě:)\")\n",
    "\n",
    "# output pro input 130, \"M\""
   ]
  },
  {
   "cell_type": "code",
   "execution_count": 7,
   "metadata": {},
   "outputs": [
    {
     "name": "stdout",
     "output_type": "stream",
     "text": [
      "je mensi nez 10\n"
     ]
    }
   ],
   "source": [
    "# krkolomny priklad s not, realne bychom podminku formulovali jako if x < 10:\n",
    "x = 7\n",
    "if not x > 10:\n",
    "    print(\"je mensi nez 10\")"
   ]
  },
  {
   "cell_type": "markdown",
   "metadata": {},
   "source": [
    "## cykly\n",
    "- cykly vyuzivame, pokud chceme nejakou operaci udelat n-krat, \"do nekonecna\" dokud se nesplni nejaka podminka (typicky while) nebo chceme *iterovat* pres nejakou promennou - list, dictionary, dataframe, string,..\n",
    " \n",
    "#### while loop\n",
    "- while loop (cyklus) pri praci s daty vyuzivame podstatne mene, nez for loop\n",
    "- while (dokud) **plati podminka**: ((kod))\n",
    "- je nutne mit osetreny konec loopu! bud pres splneni podminky (viz pocitadlo nize), nebo osetreni vychodisek keywordem **break**\n",
    "- casto se setkame s **while True:**, tj. z definice nekonecny loop. muzeme ho pouzit, pokud nevime, kolikrat bude realne nutne cyklus zopakovat, ale musime mit osetreny konecny vystup z cyklu (pres keyword **break**)\n",
    "\n",
    "#### for loop\n",
    "- for loop nam slouzi pro iteraci (\"projiti pres\") podjednotky v ramci promennych (listu, dictionaries, stringu,..), kdy pro kazdou takovou podpromennou chceme vykonat nejakou akci, napr. rozdeleni do skupiny na zaklade prvniho pismena (viz nize)."
   ]
  },
  {
   "cell_type": "code",
   "execution_count": null,
   "metadata": {},
   "outputs": [],
   "source": [
    "# input\n",
    "pocet_mnouknuti = int(input(\"pocet mnau? \"))\n",
    "\n",
    "# zadefinovani promenne pocitadlo, ke ktere se v kazdem behu cyklu pricte +1 a tim se osetri,\n",
    "# ze nekdy dojde k nesplneni podminky za \"while\" a z cyklu se vyskoci\n",
    "pocitadlo = 0\n",
    "\n",
    "while pocitadlo < pocet_mnouknuti:\n",
    "    print(f\"mňau číslo {pocitadlo + 1}\")\n",
    "    pocitadlo = pocitadlo + 1\n"
   ]
  },
  {
   "cell_type": "code",
   "execution_count": null,
   "metadata": {},
   "outputs": [],
   "source": [
    "seznam_leku = [\"Eliquis\", \"Ritalin\", \"Kanavit\", \"Rosucard\", \"Stoptussin\"]\n",
    "\n",
    "r_list = []\n",
    "not_r_list = []\n",
    "\n",
    "# iterace pres promennou seznam_leku, v kazde jedne iteraci se vezme prislusna podpromenna,\n",
    "# v tomto pripade lek ktery je na rade a provede se pro ni kod v tele cyklu (zde jednoduche\n",
    "# if-else, zda-li zacina na R a nasledne pripojeni do prislusneho listu)\n",
    "\n",
    "for lek in seznam_leku:\n",
    "    if lek.startswith(\"R\"):\n",
    "        print(f\"{lek} zacina na R :)\")\n",
    "        r_list.append(lek)\n",
    "    else:\n",
    "        print(f\"{lek} nezacina na R :/\")\n",
    "        not_r_list.append(lek)\n",
    "\n",
    "# output - formatovany string, ve kterem propisujeme vysledne listy vznikle iteraci pres list\n",
    "# a jejich delky, tj. pocet leku (ne)zacinajicich na R\n",
    "print(f\"\\nPocet co zacina na R: {len(r_list)}, seznam: {r_list}\\npocet co nezacina na R: {len(not_r_list)}, {not_r_list}\\n\")"
   ]
  },
  {
   "cell_type": "markdown",
   "metadata": {},
   "source": [
    "#### libraries, jupyter notebooky\n",
    "- libraries jsou v podstate nekym jinym napsane knihovny funkci a trid, ktere nepatri do zakladni \"vybavy\" Pythonu, ale muzeme si je stahnout (terminal: pip install \\<library\\>, napr. pip install pandas)\n",
    "- libraries existuji na prakticky vse mozne, nejcasteji vyuzivane jsou ty pro praci s daty, tvorbu webu, game dev, psani neuronovych siti,...\n",
    "- do skriptu je musime vzdy zahrnout (keyword **import**), praxi je vytvorit jim pomoci keywordu **as** i tzv. alias (pd pro pandas, np pro numpy), diky kteremu bude jednodussi volani jednotlivych funkci z techto knihoven\n",
    "- **jupyter notebooky** maji koncovku nikoliv .py, ale .ipynb a je nutne mit ve VS code nainstalovanou extension Jupyter\n",
    "- notebooky umoznuji jednodussi praci s daty, protoze si v ramci nich muzeme zobrazovat tabulky a grafy a kod lze rozdelit do samostatne spustitelnych \"code chunks\". take lze vkladat markdown, tj. bloky textu (jako prave tento, ktery ctete, hehe)"
   ]
  },
  {
   "cell_type": "code",
   "execution_count": 1,
   "metadata": {},
   "outputs": [
    {
     "data": {
      "text/html": [
       "<div>\n",
       "<style scoped>\n",
       "    .dataframe tbody tr th:only-of-type {\n",
       "        vertical-align: middle;\n",
       "    }\n",
       "\n",
       "    .dataframe tbody tr th {\n",
       "        vertical-align: top;\n",
       "    }\n",
       "\n",
       "    .dataframe thead th {\n",
       "        text-align: right;\n",
       "    }\n",
       "</style>\n",
       "<table border=\"1\" class=\"dataframe\">\n",
       "  <thead>\n",
       "    <tr style=\"text-align: right;\">\n",
       "      <th></th>\n",
       "      <th>date</th>\n",
       "      <th>ward</th>\n",
       "      <th>patient</th>\n",
       "      <th>sex</th>\n",
       "      <th>age</th>\n",
       "      <th>microbe</th>\n",
       "      <th>crp</th>\n",
       "      <th>temp</th>\n",
       "      <th>btype</th>\n",
       "      <th>hb</th>\n",
       "    </tr>\n",
       "  </thead>\n",
       "  <tbody>\n",
       "    <tr>\n",
       "      <th>0</th>\n",
       "      <td>2023-03-12</td>\n",
       "      <td>JIP_A</td>\n",
       "      <td>Petra Nová</td>\n",
       "      <td>f</td>\n",
       "      <td>31</td>\n",
       "      <td>Staphylococcus aureus</td>\n",
       "      <td>120</td>\n",
       "      <td>38.5</td>\n",
       "      <td>A+</td>\n",
       "      <td>119</td>\n",
       "    </tr>\n",
       "    <tr>\n",
       "      <th>1</th>\n",
       "      <td>2023-03-12</td>\n",
       "      <td>JIP_A</td>\n",
       "      <td>Jana Modrá</td>\n",
       "      <td>f</td>\n",
       "      <td>81</td>\n",
       "      <td>Staphylococcus epidermidis</td>\n",
       "      <td>30</td>\n",
       "      <td>37.3</td>\n",
       "      <td>A-</td>\n",
       "      <td>120</td>\n",
       "    </tr>\n",
       "    <tr>\n",
       "      <th>2</th>\n",
       "      <td>2023-03-13</td>\n",
       "      <td>JIP_A</td>\n",
       "      <td>Jana Modrá</td>\n",
       "      <td>f</td>\n",
       "      <td>81</td>\n",
       "      <td>Staphylococcus epidermidis</td>\n",
       "      <td>36</td>\n",
       "      <td>38.2</td>\n",
       "      <td>A-</td>\n",
       "      <td>120</td>\n",
       "    </tr>\n",
       "    <tr>\n",
       "      <th>3</th>\n",
       "      <td>2023-03-13</td>\n",
       "      <td>JIP_A</td>\n",
       "      <td>Jan Bezucký</td>\n",
       "      <td>m</td>\n",
       "      <td>7</td>\n",
       "      <td>Haemophilus influenzae</td>\n",
       "      <td>70</td>\n",
       "      <td>38.6</td>\n",
       "      <td>B+</td>\n",
       "      <td>142</td>\n",
       "    </tr>\n",
       "    <tr>\n",
       "      <th>4</th>\n",
       "      <td>2023-03-13</td>\n",
       "      <td>CHIR_B</td>\n",
       "      <td>Marie Vomáčková</td>\n",
       "      <td>f</td>\n",
       "      <td>47</td>\n",
       "      <td>Staphylococcus epidermidis</td>\n",
       "      <td>46</td>\n",
       "      <td>36.9</td>\n",
       "      <td>0</td>\n",
       "      <td>89</td>\n",
       "    </tr>\n",
       "  </tbody>\n",
       "</table>\n",
       "</div>"
      ],
      "text/plain": [
       "        date    ward          patient sex  age                     microbe  \\\n",
       "0 2023-03-12   JIP_A       Petra Nová   f   31       Staphylococcus aureus   \n",
       "1 2023-03-12   JIP_A       Jana Modrá   f   81  Staphylococcus epidermidis   \n",
       "2 2023-03-13   JIP_A       Jana Modrá   f   81  Staphylococcus epidermidis   \n",
       "3 2023-03-13   JIP_A      Jan Bezucký   m    7      Haemophilus influenzae   \n",
       "4 2023-03-13  CHIR_B  Marie Vomáčková   f   47  Staphylococcus epidermidis   \n",
       "\n",
       "   crp  temp btype   hb  \n",
       "0  120  38.5    A+  119  \n",
       "1   30  37.3    A-  120  \n",
       "2   36  38.2    A-  120  \n",
       "3   70  38.6    B+  142  \n",
       "4   46  36.9     0   89  "
      ]
     },
     "execution_count": 1,
     "metadata": {},
     "output_type": "execute_result"
    }
   ],
   "source": [
    "# nahrani knihoven - typicky na zacatku celeho skriptu\n",
    "import pandas as pd\n",
    "import numpy as np\n",
    "\n",
    "# volani funkce read_excel() s cestou k tabulce, kterou si chceme nahrat do skriptu\n",
    "data = pd.read_excel(\"/home/zuzana/Desktop/cc_dataset.xlsx\")\n",
    "\n",
    "# volani metody .head(), ktera nam zobrazi prvnich 5 radek fiktivniho datasetu\n",
    "data.head()"
   ]
  }
 ],
 "metadata": {
  "kernelspec": {
   "display_name": "Python 3",
   "language": "python",
   "name": "python3"
  },
  "language_info": {
   "codemirror_mode": {
    "name": "ipython",
    "version": 3
   },
   "file_extension": ".py",
   "mimetype": "text/x-python",
   "name": "python",
   "nbconvert_exporter": "python",
   "pygments_lexer": "ipython3",
   "version": "3.10.12"
  }
 },
 "nbformat": 4,
 "nbformat_minor": 2
}
