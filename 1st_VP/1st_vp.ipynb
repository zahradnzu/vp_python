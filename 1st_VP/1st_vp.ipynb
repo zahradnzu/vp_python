{
 "cells": [
  {
   "cell_type": "markdown",
   "metadata": {},
   "source": [
    "#### Zdrojovy kod k 1/5 hodine VP\n",
    "V tomto notebooku nize naleznete okomentovany kod, ktery byl ukazan na prvni hodine. Lze zkopirovat a hrat si s tim dle libosti!"
   ]
  },
  {
   "cell_type": "code",
   "execution_count": 4,
   "metadata": {},
   "outputs": [
    {
     "name": "stdout",
     "output_type": "stream",
     "text": [
      "Hello, world!\n"
     ]
    }
   ],
   "source": [
    "\"\"\" hello.py \"\"\"\n",
    "# UVOD - obligatni HELLO, WORLD: volani funkce print(), ktera vezme argument (v nasem pripade doslova string (= retezec) \"Hello, world\") a vypise ho do terminalu\n",
    "print(\"Hello, world!\")\n",
    "\n",
    "#output:"
   ]
  },
  {
   "cell_type": "code",
   "execution_count": 5,
   "metadata": {},
   "outputs": [
    {
     "name": "stdout",
     "output_type": "stream",
     "text": [
      "5\n"
     ]
    }
   ],
   "source": [
    "\"\"\" spital.py \"\"\"\n",
    "# PROMENNE, DATOVE TYPY - nase oddeleni, demonstrace ruznych datovych typu\n",
    "\n",
    "# string (str)\n",
    "jmeno_oddeleni = \"JIP_A\"\n",
    "pocet_lekaru = \"3\" # CAVE - Python bude tuto promennou brat jako sekvenci znaku (je ulozena v \"\"), NE jako cislo!\n",
    "\n",
    "# integer (int)\n",
    "pocet_pacientu = 4\n",
    "\n",
    "# float - bacha na desetinnou tecku (NE carku)\n",
    "pocet_uvazku = 4.6\n",
    "\n",
    "# boolean (bool)\n",
    "dobra_nalada = True\n",
    "maliginita = False\n",
    "\n",
    "# list - muze sam obsahovat ruzne datove typy, zde stringy:\n",
    "seznam_pacientu = [\"Anna\", \"Jakub\", \"Zuzana\", \"Ondrej\", \"Jarmila\"]\n",
    "\n",
    "# prirazujeme do promenne pocet_pacientu delku listu seznam_pacientu (tuto hodnotu nam vrati funkce len())\n",
    "# toto je lepsi zpusob, nez pocet_pacientu definovat rucne, protoze musime pocitat s tim, ze se muze v\n",
    "# budoucnu menit. Navic, u delsich seznamu by to pocitat bylo zdlouhave + je prostor pro lidskou chybu.\n",
    "pocet_pacientu = len(seznam_pacientu)\n",
    "\n",
    "#output:\n",
    "print(pocet_pacientu)"
   ]
  },
  {
   "cell_type": "code",
   "execution_count": 6,
   "metadata": {},
   "outputs": [
    {
     "name": "stdout",
     "output_type": "stream",
     "text": [
      "8.7\n"
     ]
    }
   ],
   "source": [
    "\"\"\" calc.py \"\"\"\n",
    "# do promenne x vkladame hodnotu 8.6549\n",
    "x = 8.6549\n",
    "\n",
    "# volame funkci round() a jeji parametry (number=, ndigits=) nakrmime nasimi argumenty (zaoukrouhlovane cislo x, pocet desetinnych mist)\n",
    "vysledek = round(number=x, ndigits=1) \n",
    "\n",
    "# volame print, abychom videli zaokrouhlenou hodnotu\n",
    "# output:\n",
    "print(vysledek)"
   ]
  },
  {
   "cell_type": "code",
   "execution_count": 7,
   "metadata": {},
   "outputs": [
    {
     "name": "stdout",
     "output_type": "stream",
     "text": [
      "7.35\n"
     ]
    }
   ],
   "source": [
    "\"\"\" glorified_calc.py \"\"\"\n",
    "# volame funkci input(), ktera vraci string (input od uzivatele do terminalu), tj. musime pro potreby zaokrouhleni zkonvertovat na float\n",
    "# vyslednou hodnotu prirazujeme do promenne x\n",
    "x = float(input(\"Zadej cislo: \"))\n",
    "\n",
    "# volame funkci round(), krmime ji nasimi argumenty\n",
    "zaokrouhleno = round(number=x, ndigits=2)\n",
    "\n",
    "# outuput:\n",
    "print(zaokrouhleno)"
   ]
  }
 ],
 "metadata": {
  "kernelspec": {
   "display_name": "Python 3",
   "language": "python",
   "name": "python3"
  },
  "language_info": {
   "codemirror_mode": {
    "name": "ipython",
    "version": 3
   },
   "file_extension": ".py",
   "mimetype": "text/x-python",
   "name": "python",
   "nbconvert_exporter": "python",
   "pygments_lexer": "ipython3",
   "version": "3.10.12"
  }
 },
 "nbformat": 4,
 "nbformat_minor": 2
}
