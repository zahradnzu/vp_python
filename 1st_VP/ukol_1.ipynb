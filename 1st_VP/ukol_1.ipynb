{
 "cells": [
  {
   "cell_type": "markdown",
   "metadata": {},
   "source": [
    "### Ukol / procviceni - Dospela BSA kalkulacka\n",
    "- **BSA (body surface area, m2)** je pocitany parametr odhadujici telesny povrch z telesne vysky a vahy s vyuzitim napr. pro vypocet cardiac indexu nebo renalni clearance. **Napiste program, ktery se zepta uzivatele na vysku a vahu pacienta a nasledne do terminalu vypise hodnotu BSA v metrech ctverecnich, zaokrouhlenou na 2 desetinna mista.**\n",
    "- pro vypocet bude nutne dohledat na internetu prislusny vzorec - je jich vicero, je na vas, jaky zvolite, nicmene pro jednoduchost zvolte nejaky, u ktereho k vypoctu nepotrebujete zadne zvlastni rozsirujici knihovny (tj. obsahuje maximalne mocneni, ne logaritmy/odmocniny) a nerozlisuje pohlavi pacienta.\n",
    "- **NAPOVEDA:** *veskere koncepty a funkce jsme si ukazali, pripadne jsou zmineny ve zdrojovem souboru 1st_VP.ipynb. nezapomente, ze funkce input() vraci string, tj. bude treba osetrit prevod na cislo + round bere dva parametry (cislo k zaokrouhleni, pocet desetinnych mist)*"
   ]
  },
  {
   "cell_type": "code",
   "execution_count": null,
   "metadata": {
    "vscode": {
     "languageId": "plaintext"
    }
   },
   "outputs": [],
   "source": [
    "\"\"\" RESENI \"\"\""
   ]
  }
 ],
 "metadata": {
  "language_info": {
   "name": "python"
  }
 },
 "nbformat": 4,
 "nbformat_minor": 2
}
