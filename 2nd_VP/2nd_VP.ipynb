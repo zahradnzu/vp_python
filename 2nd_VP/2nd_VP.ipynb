{
 "cells": [
  {
   "cell_type": "markdown",
   "metadata": {},
   "source": [
    "#### INDEXOVANI\n",
    "Indexovani je zpusob, jakym sahat na jednotlive podjednotky v ramci nejakeho objektu - kazda takova podjednotka v ramci objektu ma nejake unikatni, poradove cislo, pomoci ktereho na ni muzeme referovat. Ukazkovym prikladem je list, string (viz kod nize), dictionary, tabulka,...\n",
    "**Zasadni:**\n",
    "- V Pythonu se **indexuje od 0** (prvni polozka v listu ma index 0, v tabulce prvni radek 0 a prvni sloupec 0, ve stringu prvni znak,...)\n",
    "- lze sahnout po polozkach odzadu pomoci znamenka minus (posledni polozka je dosazitelna mimo sveho \"poradoveho indexu\" taky pomoci indexu -1)\n",
    "- POZOR - pokud specifikujeme rozsah, napr. chceme sahnout po prvnich 3 hodnotach v listu - syntax je list[0:3] - prvni polozka ma index 0, druha 1, treti 2 a ctvrta s indexem 3 uz tam zahrnuta neni. prvni z indexu v nami specifikovanem rozsahu je *INCLUDED*, ale ten posledni uz ne, ten je *EXCLUDED* (! rozdil proti R, navic napr. knihovna pandas pro python nekde taky bere included:included)\n"
   ]
  },
  {
   "cell_type": "code",
   "execution_count": 2,
   "metadata": {},
   "outputs": [
    {
     "name": "stdout",
     "output_type": "stream",
     "text": [
      "B\n",
      "Stoptussin\n",
      "['Eliquis', 'Ritalin', 'Kanavit']\n"
     ]
    }
   ],
   "source": [
    "promenna = \"ABCDEFGH\"\n",
    "print(promenna[1]) # string je sekvence znaku a kazdy znak v ramci nej ma svuj index - lze \"zavolat\" pomoci hranatych zavorek []\n",
    "\n",
    "seznam_leku = [\"Eliquis\", \"Ritalin\", \"Kanavit\", \"Rosucard\", \"Stoptussin\"]\n",
    "\n",
    "print(seznam_leku[-1]) # vypsani  posledni polozky v seznamu\n",
    "print(seznam_leku[0:3]) # vypsani polozek s indexem 0 az 2 (3 uz neni zahrnuto)\n",
    "\n",
    "# output:"
   ]
  },
  {
   "cell_type": "markdown",
   "metadata": {},
   "source": [
    "#### METODY\n",
    "Metody jsou v podstate funkce, ktere jsou ale vazane na prislusnou tridu - napr. nelze volat metodu, ktera zmeni vsechna pismena na velka na integer (cele cislo). Metody maji taky mirne odlisny syntax: **.metoda()** a \"zavesuji se\" za prislusnou promennou. Take mohou prijimat argumenty, nektere je dokonce vyzaduji (napr .replace())"
   ]
  },
  {
   "cell_type": "code",
   "execution_count": 3,
   "metadata": {},
   "outputs": [
    {
     "name": "stdout",
     "output_type": "stream",
     "text": [
      "jakub@seznam.cz\n",
      "ahoj@gmail.com\n"
     ]
    }
   ],
   "source": [
    "\"\"\" mail.py \"\"\"\n",
    "# beru input (mailova adresa) od usera jako string, zbavuji ho prebytecnych mezer na zacatku a na konci\n",
    "# pozn.: zde davame funkci input() VOLITELNY argument (\"Vlozte...\"), ktery se vypise do terminalu\n",
    "# pozn.2: musime opetovne priradit do promenne mail, jinak by se do ni zmena vracena metodou nepropsala\n",
    "\n",
    "mail = input(\"Vlozte e-mailovou adresu: \")\n",
    "mail = mail.strip()\n",
    "\n",
    "# alternativni zapis -> zaveseni metody .strip() na user input vraceny funkci input()\n",
    "email = input(\"Vlozte e-mailovou adresu: \").strip()\n",
    "\n",
    "#output\n",
    "print(mail, email, sep=\"\\n\")"
   ]
  },
  {
   "cell_type": "code",
   "execution_count": 4,
   "metadata": {},
   "outputs": [
    {
     "name": "stdout",
     "output_type": "stream",
     "text": [
      "zuzana@seznam.cz\n"
     ]
    }
   ],
   "source": [
    "\"\"\" mail.py volume 2 \"\"\"\n",
    "# v pripade, ze bychom chteli osetrit pripadne mezery i v ramci mailove adresy, lze pouzit metodu\n",
    "# replace.(), ktera jiz bere 2 argumenty: znaky ktere nahrazuje (zde mezeru) a znaky KTERYMI nahrazuje (nic)\n",
    "\n",
    "adresa = input(\"Vlozte e-mailovou adresu: \").replace(\" \", \"\")\n",
    "print(adresa)"
   ]
  },
  {
   "cell_type": "code",
   "execution_count": 5,
   "metadata": {},
   "outputs": [
    {
     "name": "stdout",
     "output_type": "stream",
     "text": [
      "*** INDEXOVANI ***:\n",
      "Krestni jmeno: Jan, prijmeni: Novak.\n",
      "*** PRIRAZENI DO DVOU ***:\n",
      "Krestni jmeno: Pepa, prijmeni: Vomáčka.\n"
     ]
    }
   ],
   "source": [
    "\"\"\" name.py \"\"\"\n",
    "# chceme od usera ziskat jeho jmeno a rozdelit do dvou promennych, krestni a prijmeni.\n",
    "\n",
    "\"\"\" moznost c. 1 - indexovani \"\"\" \n",
    "# pouzit metodu .split() s argumentem \" \", tj. rozdelit string do dvou a nechat si vratit list,\n",
    "# nasledne priradit do promennych pomoci indexovani\n",
    "name = input(\"Jmeno a prijmeni: \").split(\" \")\n",
    "krestni = name[0]\n",
    "prijmeni = name[1]\n",
    "\n",
    "print(f\"*** INDEXOVANI ***:\\nKrestni jmeno: {krestni}, prijmeni: {prijmeni}.\")\n",
    "\n",
    "\n",
    "\"\"\" moznost c. 2 - prirazeni do dvou promennych soucasne \"\"\"\n",
    "# opet pouzijeme metodu .split(), ale protoze vime, ze se nam vrati list o dvou polozkach, muzeme rovnou priradit\n",
    "\n",
    "krestni2, prijmeni2 = input(\"Jmeno a prijmeni: \").split(\" \")\n",
    "print(f\"*** PRIRAZENI DO DVOU ***:\\nKrestni jmeno: {krestni2}, prijmeni: {prijmeni2}.\")\n",
    "\n",
    "# pozn.: v tomto pripade by bylo pred splitovanim jeste vhodne zajistit, aby nebyly na zacatku a na konci mezery,\n",
    "# soucasne se jedna o didakticky priklad a v realite (2 krestni jmena, nekdo by napsal nejdriv prijmeni apod.) by\n",
    "# bylo treba tento vstup osetrit lepe."
   ]
  },
  {
   "cell_type": "code",
   "execution_count": 6,
   "metadata": {},
   "outputs": [
    {
     "name": "stdout",
     "output_type": "stream",
     "text": [
      "jip_a\n"
     ]
    }
   ],
   "source": [
    "\"\"\" oddeleni.py \"\"\"\n",
    "# reseni prikladu z prezentace - prevod stringu na snake_case verzi (mala pismena, zadne mezery na zacatku ani na\n",
    "# konci, zbyle mezery konvertovane na underscore _), opet dva mozne zapisy\n",
    "\n",
    "\"\"\"# zapis na vice radku \"\"\"\n",
    "# postupna uprava stringu, nutnost opakovaneho prirazovani do promenne, jako prvni zmensujeme pismena\n",
    "oddeleni = input(\"Jmeno oddeleni? \")\n",
    "oddeleni = oddeleni.lower()\n",
    "\n",
    "# osekani mezer pred a za strigem\n",
    "oddeleni = oddeleni.strip()\n",
    "\n",
    "# nahrada zbyvajicich mezer _\n",
    "oddeleni = oddeleni.replace(\" \", \"_\")\n",
    "\n",
    "# output pri inputu \"   JIP a \"\n",
    "print(oddeleni)"
   ]
  },
  {
   "cell_type": "code",
   "execution_count": 7,
   "metadata": {},
   "outputs": [
    {
     "name": "stdout",
     "output_type": "stream",
     "text": [
      "jip_a\n"
     ]
    }
   ],
   "source": [
    "\"\"\" oddeleni.py - zapis na jeden radek \"\"\"\n",
    "# podle platne hiearchie volani funkci a metod lze tento ukol vyresit tzv. \"onelinerem\"\n",
    "\n",
    "print(input(\"Jmeno oddeleni? \").lower().strip().replace(\" \", \"_\"))"
   ]
  }
 ],
 "metadata": {
  "kernelspec": {
   "display_name": "Python 3",
   "language": "python",
   "name": "python3"
  },
  "language_info": {
   "codemirror_mode": {
    "name": "ipython",
    "version": 3
   },
   "file_extension": ".py",
   "mimetype": "text/x-python",
   "name": "python",
   "nbconvert_exporter": "python",
   "pygments_lexer": "ipython3",
   "version": "3.10.12"
  }
 },
 "nbformat": 4,
 "nbformat_minor": 2
}
