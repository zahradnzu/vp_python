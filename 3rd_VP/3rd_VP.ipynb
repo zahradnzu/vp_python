{
 "cells": [
  {
   "cell_type": "code",
   "execution_count": 1,
   "metadata": {},
   "outputs": [
    {
     "name": "stdout",
     "output_type": "stream",
     "text": [
      "Pacient ve veku 6 dostal predepsany Amoksiklav.\n"
     ]
    }
   ],
   "source": [
    "\"\"\" FORMATOVANE STRINGY - lek.py \"\"\"\n",
    "# zpusob, jakym lze do stringu vlozit hodnotu promenne - pred string nalezi pismeno f,\n",
    "# promennou vkladame pomoci {}\n",
    "\n",
    "lek = 'Amoksiklav'\n",
    "vek = 6\n",
    "print(f\"Pacient ve veku {vek} dostal predepsany {lek}.\")"
   ]
  },
  {
   "cell_type": "code",
   "execution_count": 2,
   "metadata": {},
   "outputs": [
    {
     "name": "stdout",
     "output_type": "stream",
     "text": [
      "anémie:(\n"
     ]
    }
   ],
   "source": [
    "\"\"\" IFy - anemie.py I \"\"\"\n",
    "# chceme napsat skript, ktery rozhodne, zda-li ma pacient anemii, nebo ne:\n",
    "\n",
    "# volani funkce input a konverze vraceneho stringu na integer\n",
    "Hb = int(input(\"Hodnota hemoglobinu v g/l? \"))\n",
    "\n",
    "# podminka (if) - pokud je Hb mensi nez 120, pak vypis \"anemie:(\" do terminalu\n",
    "if Hb < 120:\n",
    "    print(\"anémie:(\")"
   ]
  },
  {
   "cell_type": "markdown",
   "metadata": {},
   "source": [
    "#### if, elif, else\n",
    "- pomoci podminek (= if) lze v programovani podminit vykonani urciteho kodu jen za predpokladu, ze je *neco* splneno (napr. hodnota ciselne promenne je v pozadovanem rozmezi)\n",
    "- **if** se \"zkusi\" vzdy, naproti tomu **elif** se zkusi pouze tehdy, pokud podminka nad nim (at uz if, nebo elif) nebyla splnena\n",
    "- **else** je \"kontejner\" na vsechny ostatni pripady, ktere jsme nepokryli prislusnym souborem ifu a elifu. vztahuje se vzdy k nejblizsimu ifu (a od ifem pripadnym elifum) nad nim"
   ]
  },
  {
   "cell_type": "code",
   "execution_count": 3,
   "metadata": {},
   "outputs": [
    {
     "name": "stdout",
     "output_type": "stream",
     "text": [
      "Anémie :(\n"
     ]
    }
   ],
   "source": [
    "\"\"\" anemie.py II \"\"\"\n",
    "# vyse napsany kod nicmene nezohlednuje ani variantu prekroceni horni hranice normy Hb,\n",
    "# ani nic nevypise v pripade, ze je Hb ve fyziologickem rozmezi. uprava na variantu,\n",
    "# ktera zohlednuje vsechny moznosti:\n",
    "\n",
    "if Hb < 120:\n",
    "   print(\"Anémie :(\")\n",
    "elif Hb > 160:\n",
    "   print(\"To je zas moc:(\")\n",
    "else:\n",
    "   print(\"V normě:)\")"
   ]
  },
  {
   "cell_type": "code",
   "execution_count": 4,
   "metadata": {},
   "outputs": [
    {
     "name": "stdout",
     "output_type": "stream",
     "text": [
      "Podváha:/\n"
     ]
    }
   ],
   "source": [
    "\"\"\" ukol na VP - bmi.py I \"\"\"\n",
    "# prijmi input - nutna konverze na float, nikoliv int - vyhodi error + chceme i desetinne hodnoty,\n",
    "# pracuje s nimi blok ifu\n",
    "bmi = float(input(\"BMI: \"))\n",
    "\n",
    "# rozhodovaci strom\n",
    "if bmi < 18.5:\n",
    "    print(\"Podváha:/\")\n",
    "elif 18.5 <= bmi <= 25:\n",
    "    print(\"Norma :)\")\n",
    "elif 25 < bmi <= 30:\n",
    "    print(\"nadváha\")\n",
    "else:\n",
    "    print(\"obezita:(\")\n",
    "\n",
    "# poznamka - muzeme misto elifu pouzit ify, nicmene v pripade, ze by hodnota byla \"18.4\" nebo \"23\",\n",
    "# splni se prvni / druhy z nich a i pres to, ze uz z logiky veci zadny jiny if splnen byt nemuze,\n",
    "# bude se nadale zkouset. u vetsich programu by to bylo zbytecne plytvani vypocetnim casem/kapacitou."
   ]
  },
  {
   "cell_type": "markdown",
   "metadata": {},
   "source": [
    "#### definice vlastni funkce\n",
    "- zatim jsme pouzivali funkce, ktere nam predpripravil nekdo jiny. muze se ale stat, ze si budeme potrebovat napsat vlastni!\n",
    "- vlastni funkce se nam hodi vzdy, kdy bychom chteli pocitat / provadet neco specifickeho vice nez jednou - napr. vypocet BMI, BSA, procent,..\n",
    "- pri pripadne uprave v definici se zmena projevi na vsech mistech, kde je funkce volana a nestane se tak, ze bychom zapomneli na nejake misto, kde operaci provadime, soucasne se vyhybame potencialnim chybam\n",
    "- rozkouskovani kodu do funkci nam take umoznuje v pripade slozitejsich skriptu snazsi hledani a opravovani chyb v pripade, ze se nam vyskytne nejaky **bug** - hledani a oprava chyb je mnohem jednodussi, kdyz chybu muzeme udelat na mene mistech (v definici funkce) a vime, kde ji hledat\n",
    "- promenne, ktere definujeme v ramci funkce (at uz \"uvnitr\", nebo i jmena parametru) existuji jenom v ramci tzv. **scope** teto funkce! nelze se na ne odkazovat mimo oblast definice funkce."
   ]
  },
  {
   "cell_type": "code",
   "execution_count": 5,
   "metadata": {},
   "outputs": [
    {
     "name": "stdout",
     "output_type": "stream",
     "text": [
      "Hello, world!\n"
     ]
    }
   ],
   "source": [
    "\"\"\" DEFINICE VLASTNI FUNKCE - hello.py \"\"\"\n",
    "# syntax si muzeme ukazat na naprosto primitivni funkci, jejiz jedinym smylem\n",
    "# je printit \"Hello, world!\" pri zavolani hello()\n",
    "\n",
    "def hello():\n",
    "    print(\"Hello, world!\")\n",
    "\n",
    "hello()"
   ]
  },
  {
   "cell_type": "code",
   "execution_count": 8,
   "metadata": {},
   "outputs": [
    {
     "name": "stdout",
     "output_type": "stream",
     "text": [
      "21.15\n"
     ]
    }
   ],
   "source": [
    "\"\"\" DEFINICE VLASTNI FUNKCE - bmi.py II \"\"\"\n",
    "# nas program s BMI muzeme povysit a implementovat do nej funkci, ktera spocita BMI\n",
    "# ze zadane vysky a vahy pacienta:\n",
    "\n",
    "# input\n",
    "height = float(input(\"Vyska v metrech? \"))\n",
    "weight = float(input(\"Vaha v kg? \"))\n",
    "\n",
    "# definice funkce, ktera pocita BMI ze zadanych parametru vyska, vaha a rovnou\n",
    "# VRACI (keyword \"return\") spocitanou hodnotu, zaokrouhlenou na 2 des. mista\n",
    "def vypocet_bmi(vyska, vaha):\n",
    "    bmi = vaha / (vyska*vyska)\n",
    "    return round(bmi, 2)\n",
    "\n",
    "# output\n",
    "vysledek = vypocet_bmi(height, weight)\n",
    "print(vysledek)"
   ]
  },
  {
   "cell_type": "code",
   "execution_count": 7,
   "metadata": {},
   "outputs": [],
   "source": [
    "\"\"\" bmi.py III \"\"\"\n",
    "# \"lege artis\" postup je nicmene definovat funkci rovnou za vytvareni dokumentace\n",
    "# a blizsi specifikaci vyzadovanych datovych typu jejich parametru a vracene hodnoty:\n",
    "\n",
    "# vyska, vaha i vracena hodnota bude float, v trojnasobnych \"\"\" je komentar o funkci\n",
    "def vypocet_bmi(vyska:float, vaha:float) -> float:\n",
    "    \"\"\" pocita BMI z vysky a vahy, vraci float \"\"\"\n",
    "    bmi = vaha / (vyska*vyska)\n",
    "    return round(bmi, 2) "
   ]
  }
 ],
 "metadata": {
  "kernelspec": {
   "display_name": "Python 3",
   "language": "python",
   "name": "python3"
  },
  "language_info": {
   "codemirror_mode": {
    "name": "ipython",
    "version": 3
   },
   "file_extension": ".py",
   "mimetype": "text/x-python",
   "name": "python",
   "nbconvert_exporter": "python",
   "pygments_lexer": "ipython3",
   "version": "3.10.12"
  }
 },
 "nbformat": 4,
 "nbformat_minor": 2
}
